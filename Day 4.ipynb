{
 "cells": [
  {
   "cell_type": "code",
   "execution_count": 3,
   "id": "0b6958d2",
   "metadata": {},
   "outputs": [],
   "source": [
    "import pandas as pd\n"
   ]
  },
  {
   "cell_type": "code",
   "execution_count": 4,
   "id": "67c711ca",
   "metadata": {},
   "outputs": [],
   "source": [
    "people={\n",
    "    'first':['Ram','Hari','Gopal'],\n",
    "    'last':['sharma','Yadav','verma'],\n",
    "    'email':['ram@gmail.com','hari@gmail.com','gopal@live.com']\n",
    "}\n",
    "people_df=pd.DataFrame(people)"
   ]
  },
  {
   "cell_type": "code",
   "execution_count": 5,
   "id": "c70ad9e7",
   "metadata": {},
   "outputs": [
    {
     "data": {
      "text/html": [
       "<div>\n",
       "<style scoped>\n",
       "    .dataframe tbody tr th:only-of-type {\n",
       "        vertical-align: middle;\n",
       "    }\n",
       "\n",
       "    .dataframe tbody tr th {\n",
       "        vertical-align: top;\n",
       "    }\n",
       "\n",
       "    .dataframe thead th {\n",
       "        text-align: right;\n",
       "    }\n",
       "</style>\n",
       "<table border=\"1\" class=\"dataframe\">\n",
       "  <thead>\n",
       "    <tr style=\"text-align: right;\">\n",
       "      <th></th>\n",
       "      <th>first</th>\n",
       "      <th>last</th>\n",
       "      <th>email</th>\n",
       "    </tr>\n",
       "  </thead>\n",
       "  <tbody>\n",
       "    <tr>\n",
       "      <th>0</th>\n",
       "      <td>Ram</td>\n",
       "      <td>sharma</td>\n",
       "      <td>ram@gmail.com</td>\n",
       "    </tr>\n",
       "    <tr>\n",
       "      <th>1</th>\n",
       "      <td>Hari</td>\n",
       "      <td>Yadav</td>\n",
       "      <td>hari@gmail.com</td>\n",
       "    </tr>\n",
       "    <tr>\n",
       "      <th>2</th>\n",
       "      <td>Gopal</td>\n",
       "      <td>verma</td>\n",
       "      <td>gopal@live.com</td>\n",
       "    </tr>\n",
       "  </tbody>\n",
       "</table>\n",
       "</div>"
      ],
      "text/plain": [
       "   first    last           email\n",
       "0    Ram  sharma   ram@gmail.com\n",
       "1   Hari   Yadav  hari@gmail.com\n",
       "2  Gopal   verma  gopal@live.com"
      ]
     },
     "execution_count": 5,
     "metadata": {},
     "output_type": "execute_result"
    }
   ],
   "source": [
    "people_df"
   ]
  },
  {
   "cell_type": "code",
   "execution_count": 6,
   "id": "c5a42a45",
   "metadata": {},
   "outputs": [
    {
     "data": {
      "text/html": [
       "<div>\n",
       "<style scoped>\n",
       "    .dataframe tbody tr th:only-of-type {\n",
       "        vertical-align: middle;\n",
       "    }\n",
       "\n",
       "    .dataframe tbody tr th {\n",
       "        vertical-align: top;\n",
       "    }\n",
       "\n",
       "    .dataframe thead th {\n",
       "        text-align: right;\n",
       "    }\n",
       "</style>\n",
       "<table border=\"1\" class=\"dataframe\">\n",
       "  <thead>\n",
       "    <tr style=\"text-align: right;\">\n",
       "      <th></th>\n",
       "      <th>first</th>\n",
       "      <th>last</th>\n",
       "    </tr>\n",
       "    <tr>\n",
       "      <th>email</th>\n",
       "      <th></th>\n",
       "      <th></th>\n",
       "    </tr>\n",
       "  </thead>\n",
       "  <tbody>\n",
       "    <tr>\n",
       "      <th>ram@gmail.com</th>\n",
       "      <td>Ram</td>\n",
       "      <td>sharma</td>\n",
       "    </tr>\n",
       "    <tr>\n",
       "      <th>hari@gmail.com</th>\n",
       "      <td>Hari</td>\n",
       "      <td>Yadav</td>\n",
       "    </tr>\n",
       "    <tr>\n",
       "      <th>gopal@live.com</th>\n",
       "      <td>Gopal</td>\n",
       "      <td>verma</td>\n",
       "    </tr>\n",
       "  </tbody>\n",
       "</table>\n",
       "</div>"
      ],
      "text/plain": [
       "                first    last\n",
       "email                        \n",
       "ram@gmail.com     Ram  sharma\n",
       "hari@gmail.com   Hari   Yadav\n",
       "gopal@live.com  Gopal   verma"
      ]
     },
     "execution_count": 6,
     "metadata": {},
     "output_type": "execute_result"
    }
   ],
   "source": [
    "people_df.set_index('email')"
   ]
  },
  {
   "cell_type": "code",
   "execution_count": 7,
   "id": "a7a0b50d",
   "metadata": {},
   "outputs": [],
   "source": [
    "people_df.set_index('email',inplace=True)"
   ]
  },
  {
   "cell_type": "code",
   "execution_count": 8,
   "id": "4e43f05c",
   "metadata": {},
   "outputs": [
    {
     "data": {
      "text/html": [
       "<div>\n",
       "<style scoped>\n",
       "    .dataframe tbody tr th:only-of-type {\n",
       "        vertical-align: middle;\n",
       "    }\n",
       "\n",
       "    .dataframe tbody tr th {\n",
       "        vertical-align: top;\n",
       "    }\n",
       "\n",
       "    .dataframe thead th {\n",
       "        text-align: right;\n",
       "    }\n",
       "</style>\n",
       "<table border=\"1\" class=\"dataframe\">\n",
       "  <thead>\n",
       "    <tr style=\"text-align: right;\">\n",
       "      <th></th>\n",
       "      <th>first</th>\n",
       "      <th>last</th>\n",
       "    </tr>\n",
       "    <tr>\n",
       "      <th>email</th>\n",
       "      <th></th>\n",
       "      <th></th>\n",
       "    </tr>\n",
       "  </thead>\n",
       "  <tbody>\n",
       "    <tr>\n",
       "      <th>ram@gmail.com</th>\n",
       "      <td>Ram</td>\n",
       "      <td>sharma</td>\n",
       "    </tr>\n",
       "    <tr>\n",
       "      <th>hari@gmail.com</th>\n",
       "      <td>Hari</td>\n",
       "      <td>Yadav</td>\n",
       "    </tr>\n",
       "    <tr>\n",
       "      <th>gopal@live.com</th>\n",
       "      <td>Gopal</td>\n",
       "      <td>verma</td>\n",
       "    </tr>\n",
       "  </tbody>\n",
       "</table>\n",
       "</div>"
      ],
      "text/plain": [
       "                first    last\n",
       "email                        \n",
       "ram@gmail.com     Ram  sharma\n",
       "hari@gmail.com   Hari   Yadav\n",
       "gopal@live.com  Gopal   verma"
      ]
     },
     "execution_count": 8,
     "metadata": {},
     "output_type": "execute_result"
    }
   ],
   "source": [
    "people_df"
   ]
  },
  {
   "cell_type": "code",
   "execution_count": 9,
   "id": "13f13157",
   "metadata": {},
   "outputs": [
    {
     "data": {
      "text/plain": [
       "Index(['ram@gmail.com', 'hari@gmail.com', 'gopal@live.com'], dtype='object', name='email')"
      ]
     },
     "execution_count": 9,
     "metadata": {},
     "output_type": "execute_result"
    }
   ],
   "source": [
    "people_df.index"
   ]
  },
  {
   "cell_type": "code",
   "execution_count": 10,
   "id": "d8fb7a8e",
   "metadata": {},
   "outputs": [
    {
     "data": {
      "text/html": [
       "<div>\n",
       "<style scoped>\n",
       "    .dataframe tbody tr th:only-of-type {\n",
       "        vertical-align: middle;\n",
       "    }\n",
       "\n",
       "    .dataframe tbody tr th {\n",
       "        vertical-align: top;\n",
       "    }\n",
       "\n",
       "    .dataframe thead th {\n",
       "        text-align: right;\n",
       "    }\n",
       "</style>\n",
       "<table border=\"1\" class=\"dataframe\">\n",
       "  <thead>\n",
       "    <tr style=\"text-align: right;\">\n",
       "      <th></th>\n",
       "      <th>first</th>\n",
       "      <th>last</th>\n",
       "    </tr>\n",
       "    <tr>\n",
       "      <th>email</th>\n",
       "      <th></th>\n",
       "      <th></th>\n",
       "    </tr>\n",
       "  </thead>\n",
       "  <tbody>\n",
       "    <tr>\n",
       "      <th>gopal@live.com</th>\n",
       "      <td>Gopal</td>\n",
       "      <td>verma</td>\n",
       "    </tr>\n",
       "  </tbody>\n",
       "</table>\n",
       "</div>"
      ],
      "text/plain": [
       "                first   last\n",
       "email                       \n",
       "gopal@live.com  Gopal  verma"
      ]
     },
     "execution_count": 10,
     "metadata": {},
     "output_type": "execute_result"
    }
   ],
   "source": [
    "people_df.iloc[[2]]"
   ]
  },
  {
   "cell_type": "code",
   "execution_count": 11,
   "id": "6700c036",
   "metadata": {},
   "outputs": [
    {
     "data": {
      "text/plain": [
       "first       Ram\n",
       "last     sharma\n",
       "Name: ram@gmail.com, dtype: object"
      ]
     },
     "execution_count": 11,
     "metadata": {},
     "output_type": "execute_result"
    }
   ],
   "source": [
    "people_df.loc['ram@gmail.com']"
   ]
  },
  {
   "cell_type": "code",
   "execution_count": 12,
   "id": "a6a128c9",
   "metadata": {},
   "outputs": [
    {
     "data": {
      "text/plain": [
       "email\n",
       "ram@gmail.com      Ram\n",
       "hari@gmail.com    Hari\n",
       "Name: first, dtype: object"
      ]
     },
     "execution_count": 12,
     "metadata": {},
     "output_type": "execute_result"
    }
   ],
   "source": [
    "people_df.loc[['ram@gmail.com','hari@gmail.com'],'first']"
   ]
  },
  {
   "cell_type": "code",
   "execution_count": 13,
   "id": "0bf5b7f2",
   "metadata": {},
   "outputs": [
    {
     "data": {
      "text/plain": [
       "first       Ram\n",
       "last     sharma\n",
       "Name: ram@gmail.com, dtype: object"
      ]
     },
     "execution_count": 13,
     "metadata": {},
     "output_type": "execute_result"
    }
   ],
   "source": [
    "people_df.iloc[0]"
   ]
  },
  {
   "cell_type": "code",
   "execution_count": 14,
   "id": "cf0a6a35",
   "metadata": {},
   "outputs": [
    {
     "data": {
      "text/html": [
       "<div>\n",
       "<style scoped>\n",
       "    .dataframe tbody tr th:only-of-type {\n",
       "        vertical-align: middle;\n",
       "    }\n",
       "\n",
       "    .dataframe tbody tr th {\n",
       "        vertical-align: top;\n",
       "    }\n",
       "\n",
       "    .dataframe thead th {\n",
       "        text-align: right;\n",
       "    }\n",
       "</style>\n",
       "<table border=\"1\" class=\"dataframe\">\n",
       "  <thead>\n",
       "    <tr style=\"text-align: right;\">\n",
       "      <th></th>\n",
       "      <th>email</th>\n",
       "      <th>first</th>\n",
       "      <th>last</th>\n",
       "    </tr>\n",
       "  </thead>\n",
       "  <tbody>\n",
       "    <tr>\n",
       "      <th>0</th>\n",
       "      <td>ram@gmail.com</td>\n",
       "      <td>Ram</td>\n",
       "      <td>sharma</td>\n",
       "    </tr>\n",
       "    <tr>\n",
       "      <th>1</th>\n",
       "      <td>hari@gmail.com</td>\n",
       "      <td>Hari</td>\n",
       "      <td>Yadav</td>\n",
       "    </tr>\n",
       "    <tr>\n",
       "      <th>2</th>\n",
       "      <td>gopal@live.com</td>\n",
       "      <td>Gopal</td>\n",
       "      <td>verma</td>\n",
       "    </tr>\n",
       "  </tbody>\n",
       "</table>\n",
       "</div>"
      ],
      "text/plain": [
       "            email  first    last\n",
       "0   ram@gmail.com    Ram  sharma\n",
       "1  hari@gmail.com   Hari   Yadav\n",
       "2  gopal@live.com  Gopal   verma"
      ]
     },
     "execution_count": 14,
     "metadata": {},
     "output_type": "execute_result"
    }
   ],
   "source": [
    "people_df.reset_index()"
   ]
  },
  {
   "cell_type": "code",
   "execution_count": 15,
   "id": "724d866b",
   "metadata": {},
   "outputs": [
    {
     "data": {
      "text/html": [
       "<div>\n",
       "<style scoped>\n",
       "    .dataframe tbody tr th:only-of-type {\n",
       "        vertical-align: middle;\n",
       "    }\n",
       "\n",
       "    .dataframe tbody tr th {\n",
       "        vertical-align: top;\n",
       "    }\n",
       "\n",
       "    .dataframe thead th {\n",
       "        text-align: right;\n",
       "    }\n",
       "</style>\n",
       "<table border=\"1\" class=\"dataframe\">\n",
       "  <thead>\n",
       "    <tr style=\"text-align: right;\">\n",
       "      <th></th>\n",
       "      <th>email</th>\n",
       "      <th>first</th>\n",
       "      <th>last</th>\n",
       "    </tr>\n",
       "  </thead>\n",
       "  <tbody>\n",
       "    <tr>\n",
       "      <th>0</th>\n",
       "      <td>ram@gmail.com</td>\n",
       "      <td>Ram</td>\n",
       "      <td>sharma</td>\n",
       "    </tr>\n",
       "    <tr>\n",
       "      <th>1</th>\n",
       "      <td>hari@gmail.com</td>\n",
       "      <td>Hari</td>\n",
       "      <td>Yadav</td>\n",
       "    </tr>\n",
       "    <tr>\n",
       "      <th>2</th>\n",
       "      <td>gopal@live.com</td>\n",
       "      <td>Gopal</td>\n",
       "      <td>verma</td>\n",
       "    </tr>\n",
       "  </tbody>\n",
       "</table>\n",
       "</div>"
      ],
      "text/plain": [
       "            email  first    last\n",
       "0   ram@gmail.com    Ram  sharma\n",
       "1  hari@gmail.com   Hari   Yadav\n",
       "2  gopal@live.com  Gopal   verma"
      ]
     },
     "execution_count": 15,
     "metadata": {},
     "output_type": "execute_result"
    }
   ],
   "source": [
    "people_df.reset_index(inplace=True)\n",
    "people_df"
   ]
  },
  {
   "cell_type": "code",
   "execution_count": null,
   "id": "d1bd89f1",
   "metadata": {},
   "outputs": [],
   "source": []
  }
 ],
 "metadata": {
  "kernelspec": {
   "display_name": "Python 3 (ipykernel)",
   "language": "python",
   "name": "python3"
  },
  "language_info": {
   "codemirror_mode": {
    "name": "ipython",
    "version": 3
   },
   "file_extension": ".py",
   "mimetype": "text/x-python",
   "name": "python",
   "nbconvert_exporter": "python",
   "pygments_lexer": "ipython3",
   "version": "3.11.5"
  }
 },
 "nbformat": 4,
 "nbformat_minor": 5
}
